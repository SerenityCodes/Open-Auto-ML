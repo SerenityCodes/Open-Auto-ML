{
 "cells": [
  {
   "attachments": {},
   "cell_type": "markdown",
   "metadata": {},
   "source": [
    "# Reinforcement Learning for Automated Machine Learning Model Construction\n",
    "\n",
    "## Introduction\n",
    "In this project, we aim to develop a reinforcement learning algorithm capable of autonomously constructing machine learning models on given datasets. The goal is to design an intelligent agent that learns to select and optimize the appropriate model architecture, feature engineering techniques, hyperparameters, and other relevant components to maximize the model's performance on a given task.\n",
    "\n",
    "## Motivation\n",
    "Automated Machine Learning (AutoML) has gained significant attention in recent years due to the growing demand for efficient and accessible machine learning solutions. By automating the model construction process, we can accelerate the development of high-performing models and alleviate the burden of manual trial-and-error experimentation. Reinforcement learning provides a powerful framework for building intelligent agents that can learn optimal strategies through interactions with an environment.\n",
    "\n",
    "## Objectives\n",
    "- Design a reinforcement learning algorithm for automated machine learning model construction.\n",
    "- Develop a suitable environment to simulate the model construction process.\n",
    "- Train the reinforcement learning agent to select and optimize the model components effectively.\n",
    "- Evaluate the performance of the learned agent on various datasets and compare it with existing approaches.\n",
    "\n",
    "Let's begin by exploring the components and steps involved in this exciting project!"
   ]
  },
  {
   "attachments": {},
   "cell_type": "markdown",
   "metadata": {},
   "source": [
    "# Project Goal: Reinforcement Learning for Automated Machine Learning Model Construction\n",
    "\n",
    "## Goal\n",
    "The primary goal of this project is to develop a reinforcement learning algorithm that can autonomously construct machine learning models on given datasets. The agent should be able to make decisions regarding the model architecture, feature engineering techniques, hyperparameter settings, and other relevant components to maximize the model's performance.\n",
    "\n",
    "## Expected Outcomes\n",
    "- A trained reinforcement learning agent capable of constructing high-performing machine learning models.\n",
    "- Evaluation of the agent's performance on various datasets, comparing it with existing AutoML approaches.\n",
    "- Insights into the advantages, limitations, and trade-offs of the proposed reinforcement learning-based AutoML algorithm.\n",
    "\n",
    "## Benefits\n",
    "- Automation: Automate the process of machine learning model construction, reducing manual effort and time spent on hyperparameter tuning and feature engineering.\n",
    "- Performance Improvement: Discover optimized model architectures and configurations that may outperform traditional manual approaches.\n",
    "- Adaptability: Develop an agent that can adapt to different datasets and machine learning tasks, expanding its potential applications.\n",
    "\n",
    "Now let's dive into the detailed steps and components involved in building this reinforcement learning-based AutoML algorithm!\n"
   ]
  },
  {
   "attachments": {},
   "cell_type": "markdown",
   "metadata": {},
   "source": [
    "### First Step: Get the data into a usable format\n",
    "\n",
    "1. Data preprocessing (cleaning, normalization, etc.)\n",
    "2. Feature engineering (feature selection, feature extraction, etc.)\n",
    "3. Feature encoding (one-hot encoding, label encoding, etc.)"
   ]
  },
  {
   "cell_type": "code",
   "execution_count": 19,
   "metadata": {},
   "outputs": [],
   "source": [
    "# General Libraries\n",
    "import pandas as pd\n",
    "import numpy as np\n",
    "import matplotlib.pyplot as plt\n",
    "\n",
    "# Machine Learning Libraries\n",
    "from sklearn.preprocessing import StandardScaler\n",
    "from sklearn.impute import SimpleImputer\n",
    "from sklearn.model_selection import train_test_split, StratifiedKFold\n",
    "from sklearn.ensemble import RandomForestRegressor\n",
    "from sklearn.metrics import mean_squared_error\n",
    "\n",
    "from sklearn.pipeline import Pipeline\n",
    "\n",
    "from sklearn.base import BaseEstimator, TransformerMixin\n",
    "\n",
    "from sklearn.cluster import KMeans, DBSCAN\n",
    "from sklearn.decomposition import PCA\n",
    "from sklearn.manifold import TSNE"
   ]
  },
  {
   "attachments": {},
   "cell_type": "markdown",
   "metadata": {},
   "source": [
    "## Example Data : Car MPG Dataset\n",
    "\n",
    "This is an example of an easy dataset, but it is a good starting point for our project. The dataset contains information about various car models, including their fuel efficiency (measured in miles per gallon or mpg). The goal is to predict the fuel efficiency of a car based on its attributes."
   ]
  },
  {
   "cell_type": "code",
   "execution_count": 2,
   "metadata": {},
   "outputs": [
    {
     "data": {
      "text/html": [
       "<div>\n",
       "<style scoped>\n",
       "    .dataframe tbody tr th:only-of-type {\n",
       "        vertical-align: middle;\n",
       "    }\n",
       "\n",
       "    .dataframe tbody tr th {\n",
       "        vertical-align: top;\n",
       "    }\n",
       "\n",
       "    .dataframe thead th {\n",
       "        text-align: right;\n",
       "    }\n",
       "</style>\n",
       "<table border=\"1\" class=\"dataframe\">\n",
       "  <thead>\n",
       "    <tr style=\"text-align: right;\">\n",
       "      <th></th>\n",
       "      <th>mpg</th>\n",
       "      <th>cylinders</th>\n",
       "      <th>displacement</th>\n",
       "      <th>horsepower</th>\n",
       "      <th>weight</th>\n",
       "      <th>acceleration</th>\n",
       "      <th>model-year</th>\n",
       "    </tr>\n",
       "  </thead>\n",
       "  <tbody>\n",
       "    <tr>\n",
       "      <th>0</th>\n",
       "      <td>18.0</td>\n",
       "      <td>8</td>\n",
       "      <td>307.0</td>\n",
       "      <td>130.0</td>\n",
       "      <td>3504</td>\n",
       "      <td>12.0</td>\n",
       "      <td>70</td>\n",
       "    </tr>\n",
       "    <tr>\n",
       "      <th>1</th>\n",
       "      <td>15.0</td>\n",
       "      <td>8</td>\n",
       "      <td>350.0</td>\n",
       "      <td>165.0</td>\n",
       "      <td>3693</td>\n",
       "      <td>11.5</td>\n",
       "      <td>70</td>\n",
       "    </tr>\n",
       "    <tr>\n",
       "      <th>2</th>\n",
       "      <td>18.0</td>\n",
       "      <td>8</td>\n",
       "      <td>318.0</td>\n",
       "      <td>150.0</td>\n",
       "      <td>3436</td>\n",
       "      <td>11.0</td>\n",
       "      <td>70</td>\n",
       "    </tr>\n",
       "    <tr>\n",
       "      <th>3</th>\n",
       "      <td>16.0</td>\n",
       "      <td>8</td>\n",
       "      <td>304.0</td>\n",
       "      <td>150.0</td>\n",
       "      <td>3433</td>\n",
       "      <td>12.0</td>\n",
       "      <td>70</td>\n",
       "    </tr>\n",
       "    <tr>\n",
       "      <th>4</th>\n",
       "      <td>17.0</td>\n",
       "      <td>8</td>\n",
       "      <td>302.0</td>\n",
       "      <td>140.0</td>\n",
       "      <td>3449</td>\n",
       "      <td>10.5</td>\n",
       "      <td>70</td>\n",
       "    </tr>\n",
       "  </tbody>\n",
       "</table>\n",
       "</div>"
      ],
      "text/plain": [
       "    mpg  cylinders  displacement  horsepower  weight  acceleration  model-year\n",
       "0  18.0          8         307.0       130.0    3504          12.0          70\n",
       "1  15.0          8         350.0       165.0    3693          11.5          70\n",
       "2  18.0          8         318.0       150.0    3436          11.0          70\n",
       "3  16.0          8         304.0       150.0    3433          12.0          70\n",
       "4  17.0          8         302.0       140.0    3449          10.5          70"
      ]
     },
     "execution_count": 2,
     "metadata": {},
     "output_type": "execute_result"
    }
   ],
   "source": [
    "example_easy_data = pd.read_csv(\"https://raw.githubusercontent.com/plotly/datasets/master/auto-mpg.csv\")\n",
    "example_easy_data.head()"
   ]
  },
  {
   "attachments": {},
   "cell_type": "markdown",
   "metadata": {},
   "source": [
    "## General Architecture\n",
    "\n",
    "### Preprocessing Pipeline\n",
    "Takes a dataset and preprocesses any categorical variables to numerical variables. This includes dealing with missing values, and any other usability issues.\n",
    "\n",
    "### Feature Engineering Pipeline\n",
    "Takes a dataset and performs feature engineering techniques such as feature selection, feature extraction, and feature encoding.\n",
    "\n",
    "### Reinforcement Learning Agent\n",
    "Takes a dataset and learns to select and optimize the appropriate model architecture, feature engineering techniques, hyperparameters, and other relevant components to maximize the model's performance on a given task."
   ]
  },
  {
   "attachments": {},
   "cell_type": "markdown",
   "metadata": {},
   "source": [
    "### Preprocessing Pipeline"
   ]
  },
  {
   "cell_type": "code",
   "execution_count": 39,
   "metadata": {},
   "outputs": [
    {
     "name": "stdout",
     "output_type": "stream",
     "text": [
      "2.5806376464935945\n"
     ]
    }
   ],
   "source": [
    "preprocessing_pipeline = Pipeline([\n",
    "    (\"imputer\", SimpleImputer(strategy=\"median\")),\n",
    "    (\"std_scaler\", StandardScaler())\n",
    "])\n",
    "\n",
    "X = preprocessing_pipeline.fit_transform(example_easy_data.drop(\"mpg\", axis=1))\n",
    "y = example_easy_data[\"mpg\"].copy()\n",
    "\n",
    "X_train, X_test, y_train, y_test = train_test_split(X, y, test_size=0.2)\n",
    "\n",
    "full_pipeline = Pipeline([\n",
    "    (\"preprocessing\", preprocessing_pipeline),\n",
    "    (\"model\", RandomForestRegressor())\n",
    "])\n",
    "full_pipeline.fit(X_train, y_train)\n",
    "y_pred = full_pipeline.predict(X_test)\n",
    "# Print RMSE of the model\n",
    "print(np.sqrt(mean_squared_error(y_test, y_pred)))"
   ]
  },
  {
   "attachments": {},
   "cell_type": "markdown",
   "metadata": {},
   "source": [
    "This works fine, but oftentimes we can improve the model's performance by engineering new features for the model to gain more insights with. Feature engineering doesn't always result in a better model, but it can be rewarding if the features are well-engineered.\n",
    "\n",
    "### Feature Engineering Pipeline"
   ]
  },
  {
   "cell_type": "code",
   "execution_count": 47,
   "metadata": {},
   "outputs": [
    {
     "name": "stderr",
     "output_type": "stream",
     "text": [
      "/workspaces/blackjack/.venv/lib/python3.10/site-packages/sklearn/cluster/_kmeans.py:870: FutureWarning: The default value of `n_init` will change from 10 to 'auto' in 1.4. Set the value of `n_init` explicitly to suppress the warning\n",
      "  warnings.warn(\n"
     ]
    },
    {
     "name": "stdout",
     "output_type": "stream",
     "text": [
      "4.0886908372362925\n"
     ]
    }
   ],
   "source": [
    "class FeatureEngineer(BaseEstimator, TransformerMixin):\n",
    "    def __init__(self, pca_components: int = 2, k: int = 4, destroy: bool = True) -> None:\n",
    "        self.pca = PCA(n_components=pca_components)\n",
    "        self.kmeans = KMeans(n_clusters=k)\n",
    "        self.destroy = destroy\n",
    "\n",
    "    def fit(self, X, y=None):\n",
    "        self.pca.fit(X)\n",
    "        self.kmeans.fit(X)\n",
    "        return self\n",
    "    \n",
    "    def transform(self, X, y=None):\n",
    "        X_pca = self.pca.transform(X)\n",
    "        X_kmeans = self.kmeans.transform(X)\n",
    "        dbscan = DBSCAN(eps=0.5)\n",
    "        X_dbscan = dbscan.fit_predict(X)\n",
    "        tsne = TSNE(n_components=2)\n",
    "        X_tsne = tsne.fit_transform(X)\n",
    "        if self.destroy:\n",
    "            return np.c_[X_pca, X_kmeans, X_dbscan, X_tsne]\n",
    "        else:\n",
    "            return np.c_[X, X_pca, X_kmeans, X_dbscan, X_tsne]\n",
    "\n",
    "full_pipeline = Pipeline([\n",
    "    (\"preprocessing\", preprocessing_pipeline),\n",
    "    (\"feature_engineer\", FeatureEngineer()),\n",
    "    (\"model\", RandomForestRegressor())\n",
    "])\n",
    "full_pipeline.fit(X_train, y_train)\n",
    "y_pred = full_pipeline.predict(X_test)\n",
    "# Print RMSE of the model\n",
    "print(np.sqrt(mean_squared_error(y_test, y_pred)))"
   ]
  },
  {
   "attachments": {},
   "cell_type": "markdown",
   "metadata": {},
   "source": [
    "The `pca_components` and `k` hyperparameters can be messed around with to see how they affect the model's performance. The model will be given these as inputs."
   ]
  },
  {
   "attachments": {},
   "cell_type": "markdown",
   "metadata": {},
   "source": [
    "## Model Input Ideas\n",
    "\n",
    "### Input\n",
    "- Number of features\n",
    "- Number of samples\n",
    "- Number of classes\n",
    "- Chosen model (linear regression, random forest, etc.)\n",
    "- Feature to drop\n",
    "- Feature to add\n",
    "- Number of PCA components\n",
    "- Number of K for KNN\n",
    "\n",
    "### Output\n",
    "- Metric (accuracy, precision, recall, f1, etc.)\n",
    "- Metric value\n",
    "- Model\n",
    "- Optimal model or not (1 or 0)"
   ]
  },
  {
   "cell_type": "code",
   "execution_count": null,
   "metadata": {},
   "outputs": [],
   "source": []
  }
 ],
 "metadata": {
  "kernelspec": {
   "display_name": ".venv",
   "language": "python",
   "name": "python3"
  },
  "language_info": {
   "codemirror_mode": {
    "name": "ipython",
    "version": 3
   },
   "file_extension": ".py",
   "mimetype": "text/x-python",
   "name": "python",
   "nbconvert_exporter": "python",
   "pygments_lexer": "ipython3",
   "version": "3.10.11"
  },
  "orig_nbformat": 4
 },
 "nbformat": 4,
 "nbformat_minor": 2
}
